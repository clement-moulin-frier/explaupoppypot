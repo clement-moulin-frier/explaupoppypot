{
 "metadata": {
  "name": "",
  "signature": "sha256:036fe86c7993f642d9b1d63691d91c166fb8f6e46a178d997fb37de20c25738d"
 },
 "nbformat": 3,
 "nbformat_minor": 0,
 "worksheets": [
  {
   "cells": [
    {
     "cell_type": "code",
     "collapsed": false,
     "input": [
      "import pickle"
     ],
     "language": "python",
     "metadata": {},
     "outputs": [],
     "prompt_number": 1
    },
    {
     "cell_type": "code",
     "collapsed": false,
     "input": [
      "logs = []\n",
      "for xp in ['discretized_progress']:\n",
      "    with open('logs/xp-' + xp + '_goal-knn-0.pickle', 'r') as f:\n",
      "        logs.append(pickle.load(f))"
     ],
     "language": "python",
     "metadata": {},
     "outputs": [],
     "prompt_number": 9
    },
    {
     "cell_type": "code",
     "collapsed": false,
     "input": [
      "%pylab inline\n",
      "for i, l in enumerate(logs):\n",
      "    for d in range(l.conf.s_ndims):\n",
      "        subplot(3, len(logs), (i*3) + d+1)\n",
      "        plot(l.logs['perception'][:, d], '.b')\n",
      "        plot(l.logs['choice'][:, d], '+g')"
     ],
     "language": "python",
     "metadata": {},
     "outputs": [
      {
       "output_type": "stream",
       "stream": "stdout",
       "text": [
        "Populating the interactive namespace from numpy and matplotlib\n"
       ]
      },
      {
       "output_type": "stream",
       "stream": "stderr",
       "text": [
        "WARNING: pylab import has clobbered these variables: ['f']\n",
        "`%matplotlib` prevents importing * from pylab and numpy\n"
       ]
      },
      {
       "metadata": {},
       "output_type": "display_data",
       "png": "[encoded data removed]",
       "text": [
        "<matplotlib.figure.Figure at 0x7f6a84d87e90>"
       ]
      }
     ],
     "prompt_number": 10
    },
    {
     "cell_type": "code",
     "collapsed": false,
     "input": [
      "import json\n",
      "\n",
      "with open('../poppy-software/poppytools/configuration/poppy_config.json') as f:\n",
      "    poppy_config = json.load(f)\n",
      "\n",
      "from pypot.vrep import from_vrep\n",
      "\n",
      "scene_path = '../pypot/samples/notebooks/poppy-lying_sticky.ttt'\n",
      "poppy = from_vrep(poppy_config, '127.0.0.1', 19997, scene_path)"
     ],
     "language": "python",
     "metadata": {},
     "outputs": [],
     "prompt_number": 4
    },
    {
     "cell_type": "code",
     "collapsed": false,
     "input": [
      "from environment import VrepEnvironment, conf"
     ],
     "language": "python",
     "metadata": {},
     "outputs": [],
     "prompt_number": 5
    },
    {
     "cell_type": "code",
     "collapsed": false,
     "input": [
      "env = VrepEnvironment(poppy, **conf)"
     ],
     "language": "python",
     "metadata": {},
     "outputs": [],
     "prompt_number": 6
    },
    {
     "cell_type": "code",
     "collapsed": false,
     "input": [
      "from numpy.random import randn\n",
      "from agent import get_params, DmpAgent\n",
      "from explauto.utils import rand_bounds\n",
      "from explauto.utils.config import make_configuration\n",
      "params = get_params(babbling_name='goal', sm_name='knn', im_name='random', env=env)"
     ],
     "language": "python",
     "metadata": {},
     "outputs": [],
     "prompt_number": 4
    },
    {
     "cell_type": "code",
     "collapsed": false,
     "input": [
      "ag = DmpAgent(**params)"
     ],
     "language": "python",
     "metadata": {},
     "outputs": [],
     "prompt_number": 5
    },
    {
     "cell_type": "code",
     "collapsed": false,
     "input": [
      "bootstap_range_div = 8.\n",
      "boot_conf = make_configuration(ag.conf.m_centers - ag.conf.m_ranges/(2 * bootstap_range_div), \n",
      "                               ag.conf.m_centers + ag.conf.m_ranges/(2 * bootstap_range_div), \n",
      "                               ag.conf.s_centers - ag.conf.s_ranges/(2 * bootstap_range_div), \n",
      "                               ag.conf.s_centers + ag.conf.s_ranges/(2 * bootstap_range_div))"
     ],
     "language": "python",
     "metadata": {},
     "outputs": [],
     "prompt_number": 13
    },
    {
     "cell_type": "code",
     "collapsed": false,
     "input": [
      "m = rand_bounds(boot_conf.m_bounds, n=1)[0]\n",
      "m[-ag.dmp.n_dmps:] = ag.dmp.default[:ag.dmp.n_dmps] + boot_conf.m_ranges[-ag.dmp.n_dmps:] * randn(ag.dmp.n_dmps)\n",
      "mov = ag.motor_primitive(m)"
     ],
     "language": "python",
     "metadata": {},
     "outputs": [],
     "prompt_number": 14
    },
    {
     "cell_type": "code",
     "collapsed": false,
     "input": [
      "%pylab inline\n",
      "plot(mov)"
     ],
     "language": "python",
     "metadata": {},
     "outputs": [
      {
       "output_type": "stream",
       "stream": "stdout",
       "text": [
        "Populating the interactive namespace from numpy and matplotlib\n"
       ]
      },
      {
       "metadata": {},
       "output_type": "pyout",
       "prompt_number": 15,
       "text": [
        "[<matplotlib.lines.Line2D at 0x7f470638f450>,\n",
        " <matplotlib.lines.Line2D at 0x7f470638f6d0>,\n",
        " <matplotlib.lines.Line2D at 0x7f470638f910>,\n",
        " <matplotlib.lines.Line2D at 0x7f470638fad0>,\n",
        " <matplotlib.lines.Line2D at 0x7f470638fc90>,\n",
        " <matplotlib.lines.Line2D at 0x7f470638fe50>,\n",
        " <matplotlib.lines.Line2D at 0x7f470639a050>,\n",
        " <matplotlib.lines.Line2D at 0x7f47063a5d50>,\n",
        " <matplotlib.lines.Line2D at 0x7f470639a3d0>,\n",
        " <matplotlib.lines.Line2D at 0x7f470639a590>,\n",
        " <matplotlib.lines.Line2D at 0x7f470639a750>,\n",
        " <matplotlib.lines.Line2D at 0x7f470639a910>,\n",
        " <matplotlib.lines.Line2D at 0x7f470639aad0>,\n",
        " <matplotlib.lines.Line2D at 0x7f470639ac90>,\n",
        " <matplotlib.lines.Line2D at 0x7f470639a210>,\n",
        " <matplotlib.lines.Line2D at 0x7f4706324050>,\n",
        " <matplotlib.lines.Line2D at 0x7f4706324210>,\n",
        " <matplotlib.lines.Line2D at 0x7f47063243d0>,\n",
        " <matplotlib.lines.Line2D at 0x7f4706324590>,\n",
        " <matplotlib.lines.Line2D at 0x7f4706324750>,\n",
        " <matplotlib.lines.Line2D at 0x7f4706324910>,\n",
        " <matplotlib.lines.Line2D at 0x7f470639ae50>,\n",
        " <matplotlib.lines.Line2D at 0x7f4706324c90>,\n",
        " <matplotlib.lines.Line2D at 0x7f4706324e50>,\n",
        " <matplotlib.lines.Line2D at 0x7f470632c050>]"
       ]
      },
      {
       "metadata": {},
       "output_type": "display_data",
       "png": "[encoded data removed]",
       "text": [
        "<matplotlib.figure.Figure at 0x7f47067c5350>"
       ]
      }
     ],
     "prompt_number": 15
    },
    {
     "cell_type": "code",
     "collapsed": false,
     "input": [
      "for mov in logs[0].logs['movement'][:8]:\n",
      "    env.update(mov, log=False)"
     ],
     "language": "python",
     "metadata": {},
     "outputs": [],
     "prompt_number": 11
    },
    {
     "cell_type": "code",
     "collapsed": false,
     "input": [
      "len(logs[0].logs['movement'])"
     ],
     "language": "python",
     "metadata": {},
     "outputs": [
      {
       "metadata": {},
       "output_type": "pyout",
       "prompt_number": 8,
       "text": [
        "5"
       ]
      }
     ],
     "prompt_number": 8
    },
    {
     "cell_type": "code",
     "collapsed": false,
     "input": [
      "NaN"
     ],
     "language": "python",
     "metadata": {},
     "outputs": [
      {
       "ename": "NameError",
       "evalue": "name 'NaN' is not defined",
       "output_type": "pyerr",
       "traceback": [
        "\u001b[1;31m---------------------------------------------------------------------------\u001b[0m\n\u001b[1;31mNameError\u001b[0m                                 Traceback (most recent call last)",
        "\u001b[1;32m<ipython-input-1-b1b710edc7f9>\u001b[0m in \u001b[0;36m<module>\u001b[1;34m()\u001b[0m\n\u001b[1;32m----> 1\u001b[1;33m \u001b[0mNaN\u001b[0m\u001b[1;33m\u001b[0m\u001b[0m\n\u001b[0m",
        "\u001b[1;31mNameError\u001b[0m: name 'NaN' is not defined"
       ]
      }
     ],
     "prompt_number": 1
    },
    {
     "cell_type": "code",
     "collapsed": false,
     "input": [
      "from numpy import nan"
     ],
     "language": "python",
     "metadata": {},
     "outputs": [],
     "prompt_number": 1
    },
    {
     "cell_type": "code",
     "collapsed": false,
     "input": [
      "NaN"
     ],
     "language": "python",
     "metadata": {},
     "outputs": [
      {
       "ename": "NameError",
       "evalue": "name 'NaN' is not defined",
       "output_type": "pyerr",
       "traceback": [
        "\u001b[1;31m---------------------------------------------------------------------------\u001b[0m\n\u001b[1;31mNameError\u001b[0m                                 Traceback (most recent call last)",
        "\u001b[1;32m<ipython-input-2-b1b710edc7f9>\u001b[0m in \u001b[0;36m<module>\u001b[1;34m()\u001b[0m\n\u001b[1;32m----> 1\u001b[1;33m \u001b[0mNaN\u001b[0m\u001b[1;33m\u001b[0m\u001b[0m\n\u001b[0m",
        "\u001b[1;31mNameError\u001b[0m: name 'NaN' is not defined"
       ]
      }
     ],
     "prompt_number": 2
    },
    {
     "cell_type": "code",
     "collapsed": false,
     "input": [
      "nan"
     ],
     "language": "python",
     "metadata": {},
     "outputs": [
      {
       "metadata": {},
       "output_type": "pyout",
       "prompt_number": 3,
       "text": [
        "nan"
       ]
      }
     ],
     "prompt_number": 3
    },
    {
     "cell_type": "code",
     "collapsed": false,
     "input": [],
     "language": "python",
     "metadata": {},
     "outputs": []
    }
   ],
   "metadata": {}
  }
 ]
}