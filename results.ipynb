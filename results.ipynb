{
 "metadata": {
  "name": "",
  "signature": "sha256:54af122319bfd83d43741802594bc47074131987be84db1c1bc46df02818488d"
 },
 "nbformat": 3,
 "nbformat_minor": 0,
 "worksheets": [
  {
   "cells": [
    {
     "cell_type": "code",
     "collapsed": false,
     "input": [
      "import pickle"
     ],
     "language": "python",
     "metadata": {},
     "outputs": [],
     "prompt_number": 1
    },
    {
     "cell_type": "code",
     "collapsed": false,
     "input": [
      "logs = []\n",
      "for xp in ['discretized_progress']:\n",
      "    with open('logs/2014-12-08_16-36-11/xp-' + xp + '_goal-knn-0.pickle', 'r') as f:\n",
      "        logs.append(pickle.load(f))"
     ],
     "language": "python",
     "metadata": {},
     "outputs": [],
     "prompt_number": 26
    },
    {
     "cell_type": "code",
     "collapsed": false,
     "input": [
      "%pylab inline\n",
      "for i, l in enumerate(logs):\n",
      "    for d in range(l.conf.s_ndims):\n",
      "        subplot(3, len(logs), (i*3) + d+1)\n",
      "        plot(l.logs['perception'][:, d], '.b')\n",
      "        #plot(l.logs['choice'][:, d], '+g')"
     ],
     "language": "python",
     "metadata": {},
     "outputs": [
      {
       "output_type": "stream",
       "stream": "stdout",
       "text": [
        "Populating the interactive namespace from numpy and matplotlib\n"
       ]
      },
      {
       "output_type": "stream",
       "stream": "stderr",
       "text": [
        "WARNING: pylab import has clobbered these variables: ['f']\n",
        "`%matplotlib` prevents importing * from pylab and numpy\n"
       ]
      },
      {
       "metadata": {},
       "output_type": "display_data",
       "png": "[encoded data removed]",
       "text": [
        "<matplotlib.figure.Figure at 0x7fadc7d34bd0>"
       ]
      }
     ],
     "prompt_number": 27
    },
    {
     "cell_type": "code",
     "collapsed": false,
     "input": [
      "l = logs[0]\n",
      "l.ag_conf"
     ],
     "language": "python",
     "metadata": {},
     "outputs": [
      {
       "metadata": {},
       "output_type": "pyout",
       "prompt_number": 30,
       "text": [
        "{'babbling_name': 'goal',\n",
        " 'im_name': 'discretized_progress',\n",
        " 'n_bfs': 3,\n",
        " 'sm_name': 'knn',\n",
        " 'starting_position': array([-45.3, -45.2,  19.5,  -0.1,   9.6,   0.1, -70. , -90.5,  88.7,\n",
        "        -25.7,  -9.4,  -0. ,  -0.4,   0. ,  -0. ,  25. ,  -0. ,  -0. ,\n",
        "          0.1, -70. ,  -0.2,  -0. ,  20. ,  91.1,  90. ])}"
       ]
      }
     ],
     "prompt_number": 30
    },
    {
     "cell_type": "code",
     "collapsed": false,
     "input": [
      "import os\n",
      "os.mkdir('test/test/test', )"
     ],
     "language": "python",
     "metadata": {},
     "outputs": [
      {
       "ename": "OSError",
       "evalue": "[Errno 2] No such file or directory: 'test/test/test'",
       "output_type": "pyerr",
       "traceback": [
        "\u001b[1;31m---------------------------------------------------------------------------\u001b[0m\n\u001b[1;31mOSError\u001b[0m                                   Traceback (most recent call last)",
        "\u001b[1;32m<ipython-input-25-180924db3412>\u001b[0m in \u001b[0;36m<module>\u001b[1;34m()\u001b[0m\n\u001b[0;32m      1\u001b[0m \u001b[1;32mimport\u001b[0m \u001b[0mos\u001b[0m\u001b[1;33m\u001b[0m\u001b[0m\n\u001b[1;32m----> 2\u001b[1;33m \u001b[0mos\u001b[0m\u001b[1;33m.\u001b[0m\u001b[0mmkdir\u001b[0m\u001b[1;33m(\u001b[0m\u001b[1;34m'test/test/test'\u001b[0m\u001b[1;33m)\u001b[0m\u001b[1;33m\u001b[0m\u001b[0m\n\u001b[0m",
        "\u001b[1;31mOSError\u001b[0m: [Errno 2] No such file or directory: 'test/test/test'"
       ]
      }
     ],
     "prompt_number": 25
    },
    {
     "cell_type": "code",
     "collapsed": false,
     "input": [
      "import json\n",
      "\n",
      "with open('../poppy-software/poppytools/configuration/poppy_config.json') as f:\n",
      "    poppy_config = json.load(f)\n",
      "\n",
      "from pypot.vrep import from_vrep\n",
      "\n",
      "scene_path = './poppy-lying_sticky.ttt'\n",
      "poppy = from_vrep(poppy_config, '127.0.0.1', 19997, scene_path)"
     ],
     "language": "python",
     "metadata": {},
     "outputs": [],
     "prompt_number": 13
    },
    {
     "cell_type": "code",
     "collapsed": false,
     "input": [
      "from environment import VrepEnvironment"
     ],
     "language": "python",
     "metadata": {},
     "outputs": [],
     "prompt_number": 14
    },
    {
     "cell_type": "code",
     "collapsed": false,
     "input": [
      "env = VrepEnvironment(poppy, **l.env_conf)"
     ],
     "language": "python",
     "metadata": {},
     "outputs": [],
     "prompt_number": 35
    },
    {
     "cell_type": "code",
     "collapsed": false,
     "input": [
      "for i, mov in enumerate(logs[0].logs['movement'][0::1000]):\n",
      "    print i\n",
      "    env.update(mov, log=False)"
     ],
     "language": "python",
     "metadata": {},
     "outputs": [
      {
       "output_type": "stream",
       "stream": "stdout",
       "text": [
        "0\n"
       ]
      }
     ],
     "prompt_number": 37
    },
    {
     "cell_type": "code",
     "collapsed": false,
     "input": [
      "len(logs[0].logs['movement'])"
     ],
     "language": "python",
     "metadata": {},
     "outputs": [
      {
       "metadata": {},
       "output_type": "pyout",
       "prompt_number": 4,
       "text": [
        "216"
       ]
      }
     ],
     "prompt_number": 4
    },
    {
     "cell_type": "code",
     "collapsed": false,
     "input": [
      "from agent import DmpAgent, get_params\n",
      "ag = DmpAgent(**get_params(**l.ag_conf))"
     ],
     "language": "python",
     "metadata": {},
     "outputs": [],
     "prompt_number": 31
    },
    {
     "cell_type": "code",
     "collapsed": false,
     "input": [
      "env.conf.m_maxs"
     ],
     "language": "python",
     "metadata": {},
     "outputs": [
      {
       "metadata": {},
       "output_type": "pyout",
       "prompt_number": 8,
       "text": [
        "array([ 360.,  360.,  360.,  360.,  360.,  360.,  360.,  110.,  360.,\n",
        "        360.,  360.,  360.,  360.,  360.,  360.,  360.,  360.,  360.,\n",
        "        360.,  360.,  360.,  360.,  360.,   50.,  360.])"
       ]
      }
     ],
     "prompt_number": 8
    },
    {
     "cell_type": "code",
     "collapsed": false,
     "input": [
      "from numpy import minimum"
     ],
     "language": "python",
     "metadata": {},
     "outputs": [],
     "prompt_number": 10
    },
    {
     "cell_type": "code",
     "collapsed": false,
     "input": [
      "minimum?"
     ],
     "language": "python",
     "metadata": {},
     "outputs": [],
     "prompt_number": 11
    },
    {
     "cell_type": "code",
     "collapsed": false,
     "input": [
      "from numpy.random import rand\n",
      "from numpy import ones\n",
      "v = rand(3, 4)\n",
      "print v\n",
      "minimum(v, ones(4)/2.)"
     ],
     "language": "python",
     "metadata": {},
     "outputs": [
      {
       "output_type": "stream",
       "stream": "stdout",
       "text": [
        "[[ 0.15608596  0.31121903  0.44729326  0.23512982]\n",
        " [ 0.52585789  0.60515936  0.87429684  0.44482675]\n",
        " [ 0.39030011  0.38723183  0.71200568  0.56066748]]\n"
       ]
      },
      {
       "metadata": {},
       "output_type": "pyout",
       "prompt_number": 14,
       "text": [
        "array([[ 0.15608596,  0.31121903,  0.44729326,  0.23512982],\n",
        "       [ 0.5       ,  0.5       ,  0.5       ,  0.44482675],\n",
        "       [ 0.39030011,  0.38723183,  0.5       ,  0.5       ]])"
       ]
      }
     ],
     "prompt_number": 14
    },
    {
     "cell_type": "code",
     "collapsed": false,
     "input": [
      "mov.shape"
     ],
     "language": "python",
     "metadata": {},
     "outputs": [
      {
       "metadata": {},
       "output_type": "pyout",
       "prompt_number": 15,
       "text": [
        "(628, 25)"
       ]
      }
     ],
     "prompt_number": 15
    },
    {
     "cell_type": "code",
     "collapsed": false,
     "input": [
      "%pylab inline\n",
      "t = 2000\n",
      "d = 23\n",
      "plot(logs[0].logs['movement'][t][:, :])\n",
      "plot([logs[0].logs['movement'][t].shape[0]] * 25, logs[0].logs['inference'][t, -25:], 'o')"
     ],
     "language": "python",
     "metadata": {},
     "outputs": [
      {
       "output_type": "stream",
       "stream": "stdout",
       "text": [
        "Populating the interactive namespace from numpy and matplotlib\n"
       ]
      },
      {
       "metadata": {},
       "output_type": "pyout",
       "prompt_number": 18,
       "text": [
        "[<matplotlib.lines.Line2D at 0x7fadc9f3ec90>]"
       ]
      },
      {
       "metadata": {},
       "output_type": "display_data",
       "png": "[encoded data removed]",
       "text": [
        "<matplotlib.figure.Figure at 0x7fadc5c5e950>"
       ]
      }
     ],
     "prompt_number": 18
    },
    {
     "cell_type": "code",
     "collapsed": false,
     "input": [
      "from agent import DmpAgent, get_params\n",
      "ag = DmpAgent(**get_params(3, 'goal', 'knn', 'discretized_progress', env))"
     ],
     "language": "python",
     "metadata": {},
     "outputs": [],
     "prompt_number": 33
    },
    {
     "cell_type": "code",
     "collapsed": false,
     "input": [
      "from explauto.utils import rand_bounds\n",
      "movs = []\n",
      "div = 3\n",
      "mins = ag.conf.m_centers - ag.conf.m_ranges / (2*div)\n",
      "maxs = ag.conf.m_centers + ag.conf.m_ranges / (2*div)\n",
      "bounds = vstack((mins, maxs))\n",
      "for m in rand_bounds(bounds, n=10):\n",
      "    m[:] = 0\n",
      "    m[0] = 1000\n",
      "    m[1] = -1000\n",
      "    m[2] = 1000\n",
      "    #m[-25:] = ag.dmp.default[:25]\n",
      "    mov = ag.motor_primitive(m)\n",
      "    movs.append(mov)\n"
     ],
     "language": "python",
     "metadata": {},
     "outputs": [],
     "prompt_number": 32
    },
    {
     "cell_type": "code",
     "collapsed": false,
     "input": [
      "m"
     ],
     "language": "python",
     "metadata": {},
     "outputs": [
      {
       "metadata": {},
       "output_type": "pyout",
       "prompt_number": 33,
       "text": [
        "array([ 1000., -1000.,  1000.,     0.,     0.,     0.,     0.,     0.,\n",
        "           0.,     0.,     0.,     0.,     0.,     0.,     0.,     0.,\n",
        "           0.,     0.,     0.,     0.,     0.,     0.,     0.,     0.,\n",
        "           0.,     0.,     0.,     0.,     0.,     0.,     0.,     0.,\n",
        "           0.,     0.,     0.,     0.,     0.,     0.,     0.,     0.,\n",
        "           0.,     0.,     0.,     0.,     0.,     0.,     0.,     0.,\n",
        "           0.,     0.,     0.,     0.,     0.,     0.,     0.,     0.,\n",
        "           0.,     0.,     0.,     0.,     0.,     0.,     0.,     0.,\n",
        "           0.,     0.,     0.,     0.,     0.,     0.,     0.,     0.,\n",
        "           0.,     0.,     0.,     0.,     0.,     0.,     0.,     0.,\n",
        "           0.,     0.,     0.,     0.,     0.,     0.,     0.,     0.,\n",
        "           0.,     0.,     0.,     0.,     0.,     0.,     0.,     0.,\n",
        "           0.,     0.,     0.,     0.])"
       ]
      }
     ],
     "prompt_number": 33
    },
    {
     "cell_type": "code",
     "collapsed": false,
     "input": [
      "from numpy.random import randint\n",
      "i = randint(len(movs))\n",
      "plot(movs[i][:, 0])"
     ],
     "language": "python",
     "metadata": {},
     "outputs": [
      {
       "metadata": {},
       "output_type": "pyout",
       "prompt_number": 34,
       "text": [
        "[<matplotlib.lines.Line2D at 0x7fadc60a2e90>]"
       ]
      },
      {
       "metadata": {},
       "output_type": "display_data",
       "png": "[encoded data removed]",
       "text": [
        "<matplotlib.figure.Figure at 0x7fadc60359d0>"
       ]
      }
     ],
     "prompt_number": 34
    },
    {
     "cell_type": "code",
     "collapsed": false,
     "input": [
      "bounds"
     ],
     "language": "python",
     "metadata": {},
     "outputs": [
      {
       "metadata": {},
       "output_type": "pyout",
       "prompt_number": 115,
       "text": [
        "array([[-1000. , -1000. , -1000. , -1000. , -1000. , -1000. , -1000. ,\n",
        "        -1000. , -1000. , -1000. , -1000. , -1000. , -1000. , -1000. ,\n",
        "        -1000. , -1000. , -1000. , -1000. , -1000. , -1000. , -1000. ,\n",
        "        -1000. , -1000. , -1000. , -1000. , -1000. , -1000. , -1000. ,\n",
        "        -1000. , -1000. , -1000. , -1000. , -1000. , -1000. , -1000. ,\n",
        "        -1000. , -1000. , -1000. , -1000. , -1000. , -1000. , -1000. ,\n",
        "        -1000. , -1000. , -1000. , -1000. , -1000. , -1000. , -1000. ,\n",
        "        -1000. , -1000. , -1000. , -1000. , -1000. , -1000. , -1000. ,\n",
        "        -1000. , -1000. , -1000. , -1000. , -1000. , -1000. , -1000. ,\n",
        "        -1000. , -1000. , -1000. , -1000. , -1000. , -1000. , -1000. ,\n",
        "        -1000. , -1000. , -1000. , -1000. , -1000. ,  -105.1,  -105.1,\n",
        "          -44.4,   -60. ,   -51.7,   -59.9,  -130. ,  -150.5,    29.4,\n",
        "          -86.2,   -70.2,   -60. ,   -60. ,   -60.5,   -60. ,   -34.6,\n",
        "          -60. ,   -60. ,   -59.6,  -122.4,   -60. ,   -60. ,   -44.4,\n",
        "           28.9,    30. ],\n",
        "       [ 1000. ,  1000. ,  1000. ,  1000. ,  1000. ,  1000. ,  1000. ,\n",
        "         1000. ,  1000. ,  1000. ,  1000. ,  1000. ,  1000. ,  1000. ,\n",
        "         1000. ,  1000. ,  1000. ,  1000. ,  1000. ,  1000. ,  1000. ,\n",
        "         1000. ,  1000. ,  1000. ,  1000. ,  1000. ,  1000. ,  1000. ,\n",
        "         1000. ,  1000. ,  1000. ,  1000. ,  1000. ,  1000. ,  1000. ,\n",
        "         1000. ,  1000. ,  1000. ,  1000. ,  1000. ,  1000. ,  1000. ,\n",
        "         1000. ,  1000. ,  1000. ,  1000. ,  1000. ,  1000. ,  1000. ,\n",
        "         1000. ,  1000. ,  1000. ,  1000. ,  1000. ,  1000. ,  1000. ,\n",
        "         1000. ,  1000. ,  1000. ,  1000. ,  1000. ,  1000. ,  1000. ,\n",
        "         1000. ,  1000. ,  1000. ,  1000. ,  1000. ,  1000. ,  1000. ,\n",
        "         1000. ,  1000. ,  1000. ,  1000. ,  1000. ,    14.9,    14.9,\n",
        "           75.6,    60. ,    68.3,    60.1,   -10. ,   -30.5,   149.4,\n",
        "           33.8,    49.8,    60. ,    60. ,    59.5,    60. ,    85.4,\n",
        "           60. ,    60. ,    60.4,    -2.4,    60. ,    60. ,    75.6,\n",
        "          148.9,   150. ]])"
       ]
      }
     ],
     "prompt_number": 115
    },
    {
     "cell_type": "code",
     "collapsed": false,
     "input": [
      "ag.dmp.default"
     ],
     "language": "python",
     "metadata": {},
     "outputs": [
      {
       "metadata": {},
       "output_type": "pyout",
       "prompt_number": 36,
       "text": [
        "array([-45.1, -45.1,  15.6,  -0. ,   8.3,   0.1, -70. , -90.5,  89.4,\n",
        "       -26.2, -10.2,  -0. ,  -0. ,  -0.5,  -0. ,  25.4,  -0. ,  -0. ,\n",
        "         0.4, -62.4,  -0. ,  -0. ,  15.6,  88.9,  90. ,   0. ,   0. ,\n",
        "         0. ,   0. ,   0. ,   0. ,   0. ,   0. ,   0. ,   0. ,   0. ,\n",
        "         0. ,   0. ,   0. ,   0. ,   0. ,   0. ,   0. ,   0. ,   0. ,\n",
        "         0. ,   0. ,   0. ,   0. ,   0. ,   0. ,   0. ,   0. ,   0. ,\n",
        "         0. ,   0. ,   0. ,   0. ,   0. ,   0. ,   0. ,   0. ,   0. ,\n",
        "         0. ,   0. ,   0. ,   0. ,   0. ,   0. ,   0. ,   0. ,   0. ,\n",
        "         0. ,   0. ,   0. ,   0. ,   0. ,   0. ,   0. ,   0. ,   0. ,\n",
        "         0. ,   0. ,   0. ,   0. ,   0. ,   0. ,   0. ,   0. ,   0. ,\n",
        "         0. ,   0. ,   0. ,   0. ,   0. ,   0. ,   0. ,   0. ,   0. ,\n",
        "         0. , -45.1, -45.1,  15.6,  -0. ,   8.3,   0.1, -70. , -90.5,\n",
        "        89.4, -26.2, -10.2,  -0. ,  -0. ,  -0.5,  -0. ,  25.4,  -0. ,\n",
        "        -0. ,   0.4, -62.4,  -0. ,  -0. ,  15.6,  88.9,  90. ])"
       ]
      }
     ],
     "prompt_number": 36
    },
    {
     "cell_type": "code",
     "collapsed": false,
     "input": [
      "env.reset()"
     ],
     "language": "python",
     "metadata": {},
     "outputs": [],
     "prompt_number": 32
    },
    {
     "cell_type": "code",
     "collapsed": false,
     "input": [],
     "language": "python",
     "metadata": {},
     "outputs": []
    }
   ],
   "metadata": {}
  }
 ]
}